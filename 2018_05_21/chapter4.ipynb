{
 "cells": [
  {
   "cell_type": "markdown",
   "metadata": {},
   "source": [
    "## 損失関数"
   ]
  },
  {
   "cell_type": "code",
   "execution_count": 1,
   "metadata": {
    "collapsed": true
   },
   "outputs": [],
   "source": [
    "def mean_squared_error(y, t):\n",
    "    return 0.5 * np.sum((y - t)**2)\n",
    "\n",
    "def cross_entropy_error(y, t):\n",
    "    delta = 1e-7\n",
    "    return -np.sum(t * np.log(y + delta))\n",
    "\n",
    "# 教師データ：「２」\n",
    "t = [0, 0, 1, 0, 0, 0, 0, 0, 0, 0]"
   ]
  },
  {
   "cell_type": "code",
   "execution_count": 2,
   "metadata": {},
   "outputs": [
    {
     "name": "stdout",
     "output_type": "stream",
     "text": [
      "0.0975\n",
      "0.5975\n"
     ]
    }
   ],
   "source": [
    "# 例 1:「2」の確率が最も高い場合(0.6)\n",
    "y1 = [0.1, 0.05, 0.6, 0.0, 0.05, 0.1, 0.0, 0.1, 0.0, 0.0]\n",
    "print(mean_squared_error(np.array(y1), np.array(t)))\n",
    "\n",
    "# 例 2:「7」の確率が最も高い場合(0.6)\n",
    "y2 = [0.1, 0.05, 0.1, 0.0, 0.05, 0.1, 0.0, 0.6, 0.0, 0.0]\n",
    "print(mean_squared_error(np.array(y2), np.array(t)))"
   ]
  },
  {
   "cell_type": "code",
   "execution_count": 3,
   "metadata": {},
   "outputs": [
    {
     "name": "stdout",
     "output_type": "stream",
     "text": [
      "0.510825457099\n",
      "2.30258409299\n"
     ]
    }
   ],
   "source": [
    "y1 = [0.1, 0.05, 0.6, 0.0, 0.05, 0.1, 0.0, 0.1, 0.0, 0.0]\n",
    "print(cross_entropy_error(np.array(y1), np.array(t)))\n",
    "\n",
    "y2 = [0.1, 0.05, 0.1, 0.0, 0.05, 0.1, 0.0, 0.6, 0.0, 0.0]\n",
    "print(cross_entropy_error(np.array(y2), np.array(t)))"
   ]
  },
  {
   "cell_type": "markdown",
   "metadata": {},
   "source": [
    "## ミニバッチ学習"
   ]
  },
  {
   "cell_type": "code",
   "execution_count": 4,
   "metadata": {
    "scrolled": true
   },
   "outputs": [
    {
     "name": "stdout",
     "output_type": "stream",
     "text": [
      "(60000, 784)\n",
      "(60000, 10)\n"
     ]
    }
   ],
   "source": [
    "import sys, os\n",
    "sys.path.append(os.pardir)\n",
    "import numpy as np\n",
    "from dataset.mnist import load_mnist\n",
    "(x_train, t_train), (x_test, t_test) = \\\n",
    "    load_mnist(normalize=True, one_hot_label=True)\n",
    "print(x_train.shape) # (60000, 784)\n",
    "print(t_train.shape) # (60000, 10)"
   ]
  },
  {
   "cell_type": "code",
   "execution_count": 5,
   "metadata": {
    "collapsed": true
   },
   "outputs": [],
   "source": [
    "train_size = x_train.shape[0]\n",
    "batch_size = 10\n",
    "batch_mask = np.random.choice(train_size, batch_size)\n",
    "x_batch = x_train[batch_mask]\n",
    "t_batch = t_train[batch_mask]"
   ]
  },
  {
   "cell_type": "markdown",
   "metadata": {},
   "source": [
    "## 交差エントロピー誤差の実装"
   ]
  },
  {
   "cell_type": "markdown",
   "metadata": {},
   "source": [
    "- 教師データtがone-hot表現の時 （例）t = [0, 0, 1, 0, 0, 0, 0, 0, 0, 0]"
   ]
  },
  {
   "cell_type": "code",
   "execution_count": 6,
   "metadata": {
    "collapsed": true
   },
   "outputs": [],
   "source": [
    "def cross_entropy_error(y, t):\n",
    "    if y.ndim == 1:\n",
    "        t = t.reshape(1, t.size)\n",
    "        y = y.reshape(1, y.size)\n",
    "    batch_size = y.shape[0]\n",
    "    return -np.sum(t * np.log(y + 1e-7)) / batch_size"
   ]
  },
  {
   "cell_type": "markdown",
   "metadata": {},
   "source": [
    "- 教師データtがラベルとして与えられた時　（例）t = 2"
   ]
  },
  {
   "cell_type": "code",
   "execution_count": 7,
   "metadata": {
    "collapsed": true
   },
   "outputs": [],
   "source": [
    "def cross_entropy_error(y, t): \n",
    "    if y.ndim == 1:\n",
    "        t = t.reshape(1, t.size) \n",
    "        y = y.reshape(1, y.size)\n",
    "    batch_size = y.shape[0]\n",
    "    return -np.sum(np.log(y[np.arange(batch_size), t] + 1e-7)) / batch_size"
   ]
  },
  {
   "cell_type": "markdown",
   "metadata": {},
   "source": [
    "## 数値微分"
   ]
  },
  {
   "cell_type": "code",
   "execution_count": 8,
   "metadata": {
    "collapsed": true
   },
   "outputs": [],
   "source": [
    "# 悪い例\n",
    "def numerical_diff(f, x):\n",
    "    h = 10e-50\n",
    "    return (f(x+h) - f(x)) / h"
   ]
  },
  {
   "cell_type": "code",
   "execution_count": 9,
   "metadata": {},
   "outputs": [
    {
     "data": {
      "text/plain": [
       "0.0"
      ]
     },
     "execution_count": 9,
     "metadata": {},
     "output_type": "execute_result"
    }
   ],
   "source": [
    "np.float32(1e-50) # 丸め誤差"
   ]
  },
  {
   "cell_type": "code",
   "execution_count": 10,
   "metadata": {
    "collapsed": true
   },
   "outputs": [],
   "source": [
    "def numerical_diff(f, x):\n",
    "        h = 1e-4 # 0.0001\n",
    "        return (f(x+h) - f(x-h)) / (2*h)"
   ]
  },
  {
   "cell_type": "markdown",
   "metadata": {},
   "source": [
    "## 数値微分の例"
   ]
  },
  {
   "cell_type": "code",
   "execution_count": 11,
   "metadata": {
    "collapsed": true
   },
   "outputs": [],
   "source": [
    "def function_1(x):\n",
    "        return 0.01*x**2 + 0.1*x"
   ]
  },
  {
   "cell_type": "code",
   "execution_count": 12,
   "metadata": {},
   "outputs": [
    {
     "data": {
      "image/png": "[encoded data removed]",
      "text/plain": [
       "<matplotlib.figure.Figure at 0x112f02c88>"
      ]
     },
     "metadata": {},
     "output_type": "display_data"
    }
   ],
   "source": [
    "import numpy as np\n",
    "import matplotlib.pylab as plt\n",
    "x = np.arange(0.0, 20.0, 0.1) # 0 から 20 まで、0.1 刻みの x 配列 \n",
    "y = function_1(x)\n",
    "plt.xlabel(\"x\")\n",
    "plt.ylabel(\"f(x)\")\n",
    "plt.plot(x, y)\n",
    "plt.show()"
   ]
  },
  {
   "cell_type": "code",
   "execution_count": 13,
   "metadata": {
    "scrolled": true
   },
   "outputs": [
    {
     "data": {
      "text/plain": [
       "0.1999999999990898"
      ]
     },
     "execution_count": 13,
     "metadata": {},
     "output_type": "execute_result"
    }
   ],
   "source": [
    "numerical_diff(function_1, 5)"
   ]
  },
  {
   "cell_type": "code",
   "execution_count": 14,
   "metadata": {},
   "outputs": [
    {
     "data": {
      "text/plain": [
       "0.2999999999986347"
      ]
     },
     "execution_count": 14,
     "metadata": {},
     "output_type": "execute_result"
    }
   ],
   "source": [
    "numerical_diff(function_1, 10)"
   ]
  },
  {
   "cell_type": "code",
   "execution_count": 15,
   "metadata": {},
   "outputs": [
    {
     "name": "stdout",
     "output_type": "stream",
     "text": [
      "0.1999999999990898\n"
     ]
    },
    {
     "data": {
      "image/png": "[encoded data removed]",
      "text/plain": [
       "<matplotlib.figure.Figure at 0x12ae24320>"
      ]
     },
     "metadata": {},
     "output_type": "display_data"
    }
   ],
   "source": [
    "def tangent_line(f, x):\n",
    "    d = numerical_diff(f, x)\n",
    "    print(d)\n",
    "    y = f(x) - d*x\n",
    "    return lambda t: d*t + y\n",
    "     \n",
    "x = np.arange(0.0, 20.0, 0.1)\n",
    "y = function_1(x)\n",
    "plt.xlabel(\"x\")\n",
    "plt.ylabel(\"f(x)\")\n",
    "\n",
    "tf = tangent_line(function_1, 5)\n",
    "y2 = tf(x)\n",
    "\n",
    "plt.plot(x, y)\n",
    "plt.plot(x, y2)\n",
    "plt.show()"
   ]
  },
  {
   "cell_type": "markdown",
   "metadata": {},
   "source": [
    "## 偏微分"
   ]
  },
  {
   "cell_type": "code",
   "execution_count": 16,
   "metadata": {
    "collapsed": true
   },
   "outputs": [],
   "source": [
    "def function_2(x):\n",
    "    return x[0]**2 + x[1]**2\n",
    "# または return np.sum(x**2)"
   ]
  },
  {
   "cell_type": "markdown",
   "metadata": {},
   "source": [
    "#### exersize\n",
    "1. x0 = 3、x1 = 4 のときの x0 に対する偏微分を求めよ\n",
    "1. x0 = 3、x1 = 4 のときの x1 に対する偏微分を求めよ"
   ]
  },
  {
   "cell_type": "code",
   "execution_count": 17,
   "metadata": {},
   "outputs": [
    {
     "data": {
      "text/plain": [
       "6.00000000000378"
      ]
     },
     "execution_count": 17,
     "metadata": {},
     "output_type": "execute_result"
    }
   ],
   "source": [
    "# 1\n",
    "def function_tmp1(x0):\n",
    "    return x0*x0 + 4.0**2.0\n",
    "\n",
    "numerical_diff(function_tmp1, 3.0)"
   ]
  },
  {
   "cell_type": "code",
   "execution_count": 18,
   "metadata": {},
   "outputs": [
    {
     "data": {
      "text/plain": [
       "7.999999999999119"
      ]
     },
     "execution_count": 18,
     "metadata": {},
     "output_type": "execute_result"
    }
   ],
   "source": [
    "# 2\n",
    "def function_tmp2(x1):\n",
    "    return 3.0**2.0 + x1*x1\n",
    "\n",
    "numerical_diff(function_tmp2, 4.0)"
   ]
  },
  {
   "cell_type": "markdown",
   "metadata": {},
   "source": [
    "## 勾配"
   ]
  },
  {
   "cell_type": "code",
   "execution_count": 19,
   "metadata": {
    "collapsed": true
   },
   "outputs": [],
   "source": [
    "def numerical_gradient(f, x):\n",
    "    h = 1e-4 # 0.0001\n",
    "    grad = np.zeros_like(x) # x と同じ形状の配列を生成\n",
    "    \n",
    "    for idx in range(x.size): \n",
    "        tmp_val = x[idx]\n",
    "        # f(x+h) の計算\n",
    "        x[idx] = tmp_val + h \n",
    "        fxh1 = f(x)\n",
    "        \n",
    "        # f(x-h) の計算 \n",
    "        x[idx] = tmp_val - h \n",
    "        fxh2 = f(x)\n",
    "        \n",
    "        grad[idx] = (fxh1 - fxh2) / (2*h) \n",
    "        x[idx] = tmp_val # 値を元に戻す\n",
    "        \n",
    "    return grad"
   ]
  },
  {
   "cell_type": "code",
   "execution_count": 20,
   "metadata": {
    "scrolled": true
   },
   "outputs": [
    {
     "data": {
      "text/plain": [
       "array([ 6.,  8.])"
      ]
     },
     "execution_count": 20,
     "metadata": {},
     "output_type": "execute_result"
    }
   ],
   "source": [
    "numerical_gradient(function_2, np.array([3.0, 4.0]))"
   ]
  },
  {
   "cell_type": "code",
   "execution_count": 21,
   "metadata": {
    "scrolled": true
   },
   "outputs": [
    {
     "data": {
      "text/plain": [
       "array([ 0.,  4.])"
      ]
     },
     "execution_count": 21,
     "metadata": {},
     "output_type": "execute_result"
    }
   ],
   "source": [
    "numerical_gradient(function_2, np.array([0.0, 2.0]))"
   ]
  },
  {
   "cell_type": "code",
   "execution_count": 22,
   "metadata": {},
   "outputs": [
    {
     "data": {
      "text/plain": [
       "array([ 6.,  0.])"
      ]
     },
     "execution_count": 22,
     "metadata": {},
     "output_type": "execute_result"
    }
   ],
   "source": [
    "numerical_gradient(function_2, np.array([3.0, 0.0]))"
   ]
  },
  {
   "cell_type": "code",
   "execution_count": 23,
   "metadata": {},
   "outputs": [
    {
     "name": "stderr",
     "output_type": "stream",
     "text": [
      "/Users/TO/.pyenv/versions/anaconda3-4.4.0/lib/python3.6/site-packages/matplotlib/axes/_axes.py:545: UserWarning: No labelled objects found. Use label='...' kwarg on individual plots.\n",
      "  warnings.warn(\"No labelled objects found. \"\n"
     ]
    },
    {
     "data": {
      "image/png": "[encoded data removed]",
      "text/plain": [
       "<matplotlib.figure.Figure at 0x12af00240>"
      ]
     },
     "metadata": {},
     "output_type": "display_data"
    }
   ],
   "source": [
    "import numpy as np\n",
    "import matplotlib.pylab as plt\n",
    "from mpl_toolkits.mplot3d import Axes3D\n",
    "\n",
    "\n",
    "def _numerical_gradient_no_batch(f, x):\n",
    "    h = 1e-4 # 0.0001\n",
    "    grad = np.zeros_like(x)\n",
    "    \n",
    "    for idx in range(x.size):\n",
    "        tmp_val = x[idx]\n",
    "        x[idx] = float(tmp_val) + h\n",
    "        fxh1 = f(x) # f(x+h)\n",
    "        \n",
    "        x[idx] = tmp_val - h \n",
    "        fxh2 = f(x) # f(x-h)\n",
    "        grad[idx] = (fxh1 - fxh2) / (2*h)\n",
    "        \n",
    "        x[idx] = tmp_val # 値を元に戻す\n",
    "        \n",
    "    return grad\n",
    "\n",
    "\n",
    "def numerical_gradient(f, X):\n",
    "    if X.ndim == 1:\n",
    "        return _numerical_gradient_no_batch(f, X)\n",
    "    else:\n",
    "        grad = np.zeros_like(X)\n",
    "        \n",
    "        for idx, x in enumerate(X):\n",
    "            grad[idx] = _numerical_gradient_no_batch(f, x)\n",
    "        \n",
    "        return grad\n",
    "\n",
    "\n",
    "def function_2(x):\n",
    "    if x.ndim == 1:\n",
    "        return np.sum(x**2)\n",
    "    else:\n",
    "        return np.sum(x**2, axis=1)\n",
    "\n",
    "\n",
    "def tangent_line(f, x):\n",
    "    d = numerical_gradient(f, x)\n",
    "    print(d)\n",
    "    y = f(x) - d*x\n",
    "    return lambda t: d*t + y\n",
    "     \n",
    "if __name__ == '__main__':\n",
    "    x0 = np.arange(-2, 2.5, 0.25)\n",
    "    x1 = np.arange(-2, 2.5, 0.25)\n",
    "    X, Y = np.meshgrid(x0, x1)\n",
    "    \n",
    "    X = X.flatten()\n",
    "    Y = Y.flatten()\n",
    "    \n",
    "    grad = numerical_gradient(function_2, np.array([X, Y]) )\n",
    "    \n",
    "    plt.figure()\n",
    "    plt.quiver(X, Y, -grad[0], -grad[1],  angles=\"xy\",color=\"#666666\")#,headwidth=10,scale=40,color=\"#444444\")\n",
    "    plt.xlim([-2, 2])\n",
    "    plt.ylim([-2, 2])\n",
    "    plt.xlabel('x0')\n",
    "    plt.ylabel('x1')\n",
    "    plt.grid()\n",
    "    plt.legend()\n",
    "    plt.draw()\n",
    "    plt.show()"
   ]
  },
  {
   "cell_type": "markdown",
   "metadata": {},
   "source": [
    "### 勾配降下法"
   ]
  },
  {
   "cell_type": "code",
   "execution_count": 24,
   "metadata": {},
   "outputs": [],
   "source": [
    "def gradient_descent(f, init_x, lr=0.01, step_num=100):\n",
    "    x  = init_x\n",
    "\n",
    "    for i in range(step_num):\n",
    "        grad = numerical_gradient(f, x)\n",
    "        x -= lr * grad\n",
    "\n",
    "    return x"
   ]
  },
  {
   "cell_type": "code",
   "execution_count": 25,
   "metadata": {},
   "outputs": [
    {
     "data": {
      "text/plain": [
       "array([ -6.11110793e-10,   8.14814391e-10])"
      ]
     },
     "execution_count": 25,
     "metadata": {},
     "output_type": "execute_result"
    }
   ],
   "source": [
    "init_x = np.array([-3.0, 4.0])\n",
    "gradient_descent(function_2, init_x=init_x, lr=0.1, step_num=100)"
   ]
  },
  {
   "cell_type": "code",
   "execution_count": 26,
   "metadata": {},
   "outputs": [
    {
     "data": {
      "text/plain": [
       "array([ -2.58983747e+13,  -1.29524862e+12])"
      ]
     },
     "execution_count": 26,
     "metadata": {},
     "output_type": "execute_result"
    }
   ],
   "source": [
    "# 学習率が大きすぎる例:lr=10.0\n",
    "init_x = np.array([-3.0, 4.0])\n",
    "gradient_descent(function_2, init_x=init_x, lr=10.0, step_num=100)"
   ]
  },
  {
   "cell_type": "code",
   "execution_count": 27,
   "metadata": {},
   "outputs": [
    {
     "data": {
      "text/plain": [
       "array([-2.99999994,  3.99999992])"
      ]
     },
     "execution_count": 27,
     "metadata": {},
     "output_type": "execute_result"
    }
   ],
   "source": [
    "# 学習率が小さすぎる例:lr=1e-10\n",
    "init_x = np.array([-3.0, 4.0])\n",
    "gradient_descent(function_2, init_x=init_x, lr=1e-10, step_num=100)"
   ]
  },
  {
   "cell_type": "code",
   "execution_count": 59,
   "metadata": {},
   "outputs": [
    {
     "data": {
      "image/png": "[encoded data removed]",
      "text/plain": [
       "<matplotlib.figure.Figure at 0x12aea2b38>"
      ]
     },
     "metadata": {},
     "output_type": "display_data"
    }
   ],
   "source": [
    "# coding: utf-8\n",
    "import numpy as np\n",
    "import matplotlib.pylab as plt\n",
    "from ch04.gradient_2d import numerical_gradient\n",
    "\n",
    "\n",
    "def gradient_descent(f, init_x, lr=0.01, step_num=100):\n",
    "    x = init_x\n",
    "    x_history = []\n",
    "\n",
    "    for i in range(step_num):\n",
    "        x_history.append( x.copy() )\n",
    "\n",
    "        grad = numerical_gradient(f, x)\n",
    "        x -= lr * grad\n",
    "\n",
    "    return x, np.array(x_history)\n",
    "\n",
    "\n",
    "def function_2(x):\n",
    "    return x[0]**2 + x[1]**2\n",
    "\n",
    "init_x = np.array([-3.0, 4.0])    \n",
    "\n",
    "lr = 0.1\n",
    "step_num = 20\n",
    "x, x_history = gradient_descent(function_2, init_x, lr=lr, step_num=step_num)\n",
    "\n",
    "plt.plot( [-5, 5], [0,0], '--b')\n",
    "plt.plot( [0,0], [-5, 5], '--b')\n",
    "plt.plot(x_history[:,0], x_history[:,1], 'o')\n",
    "\n",
    "plt.xlim(-3.5, 3.5)\n",
    "plt.ylim(-4.5, 4.5)\n",
    "plt.xlabel(\"X0\")\n",
    "plt.ylabel(\"X1\")\n",
    "plt.show()"
   ]
  },
  {
   "cell_type": "markdown",
   "metadata": {},
   "source": [
    "### ニューラルネットワークに対する勾配"
   ]
  },
  {
   "cell_type": "code",
   "execution_count": 60,
   "metadata": {},
   "outputs": [],
   "source": [
    "import sys, os\n",
    "sys.path.append(os.pardir)\n",
    "import numpy as np\n",
    "from common.functions import softmax, cross_entropy_error\n",
    "from common.gradient import numerical_gradient\n",
    "\n",
    "class simpleNet:\n",
    "    def __init__(self):\n",
    "        self.W = np.random.randn(2,3) # ガウス分布で初期化 \n",
    "    \n",
    "    def predict(self, x):\n",
    "        return np.dot(x, self.W)\n",
    "    \n",
    "    def loss(self, x, t):\n",
    "        z = self.predict(x)\n",
    "        y = softmax(z)\n",
    "        loss = cross_entropy_error(y, t)\n",
    "        \n",
    "        return loss"
   ]
  },
  {
   "cell_type": "code",
   "execution_count": 61,
   "metadata": {},
   "outputs": [
    {
     "data": {
      "text/plain": [
       "array([[ 0.76137946, -0.67956323, -0.70818487],\n",
       "       [-0.15971728,  0.16812672, -1.38430599]])"
      ]
     },
     "execution_count": 61,
     "metadata": {},
     "output_type": "execute_result"
    }
   ],
   "source": [
    "net = simpleNet()\n",
    "net.W"
   ]
  },
  {
   "cell_type": "code",
   "execution_count": 31,
   "metadata": {},
   "outputs": [
    {
     "data": {
      "text/plain": [
       "array([-1.07348331, -1.23757653,  1.16424221])"
      ]
     },
     "execution_count": 31,
     "metadata": {},
     "output_type": "execute_result"
    }
   ],
   "source": [
    "x = np.array([0.6, 0.9])\n",
    "net.predict(x)"
   ]
  },
  {
   "cell_type": "code",
   "execution_count": 32,
   "metadata": {},
   "outputs": [
    {
     "data": {
      "text/plain": [
       "0.18003050544421226"
      ]
     },
     "execution_count": 32,
     "metadata": {},
     "output_type": "execute_result"
    }
   ],
   "source": [
    "t = np.array([0, 0, 1]) # 正解ラベル \n",
    "net.loss(x, t)"
   ]
  },
  {
   "cell_type": "code",
   "execution_count": 33,
   "metadata": {},
   "outputs": [
    {
     "data": {
      "text/plain": [
       "array([[ 0.05347282,  0.04538039, -0.09885321],\n",
       "       [ 0.08020922,  0.06807059, -0.14827981]])"
      ]
     },
     "execution_count": 33,
     "metadata": {},
     "output_type": "execute_result"
    }
   ],
   "source": [
    "def f(w):\n",
    "    return net.loss(x, t)\n",
    "\n",
    "numerical_gradient(f, net.W)"
   ]
  },
  {
   "cell_type": "code",
   "execution_count": 34,
   "metadata": {},
   "outputs": [
    {
     "data": {
      "text/plain": [
       "array([[ 0.05347282,  0.04538039, -0.09885321],\n",
       "       [ 0.08020922,  0.06807059, -0.14827981]])"
      ]
     },
     "execution_count": 34,
     "metadata": {},
     "output_type": "execute_result"
    }
   ],
   "source": [
    "# これも可\n",
    "f = lambda w: net.loss(x, t)\n",
    "numerical_gradient(f, net.W) "
   ]
  },
  {
   "cell_type": "markdown",
   "metadata": {},
   "source": [
    "### 2層ニューラルネットワークのクラス"
   ]
  },
  {
   "cell_type": "code",
   "execution_count": 67,
   "metadata": {
    "collapsed": true
   },
   "outputs": [],
   "source": [
    "# coding: utf-8\n",
    "import sys, os\n",
    "sys.path.append(os.pardir)  # 親ディレクトリのファイルをインポートするための設定\n",
    "from common.functions import *\n",
    "from common.gradient import numerical_gradient\n",
    "\n",
    "\n",
    "class TwoLayerNet:\n",
    "\n",
    "    def __init__(self, input_size, hidden_size, output_size, weight_init_std=0.01):\n",
    "        # 重みの初期化\n",
    "        self.params = {}\n",
    "        self.params['W1'] = weight_init_std * np.random.randn(input_size, hidden_size)\n",
    "        self.params['b1'] = np.zeros(hidden_size)\n",
    "        self.params['W2'] = weight_init_std * np.random.randn(hidden_size, output_size)\n",
    "        self.params['b2'] = np.zeros(output_size)\n",
    "\n",
    "    def predict(self, x):\n",
    "        W1, W2 = self.params['W1'], self.params['W2']\n",
    "        b1, b2 = self.params['b1'], self.params['b2']\n",
    "    \n",
    "        a1 = np.dot(x, W1) + b1\n",
    "        z1 = sigmoid(a1)\n",
    "        a2 = np.dot(z1, W2) + b2\n",
    "        y = softmax(a2)\n",
    "        \n",
    "        return y\n",
    "        \n",
    "    # x:入力データ, t:教師データ\n",
    "    def loss(self, x, t):\n",
    "        y = self.predict(x)\n",
    "        \n",
    "        return cross_entropy_error(y, t)\n",
    "    \n",
    "    def accuracy(self, x, t):\n",
    "        y = self.predict(x)\n",
    "        y = np.argmax(y, axis=1)\n",
    "        t = np.argmax(t, axis=1)\n",
    "        \n",
    "        accuracy = np.sum(y == t) / float(x.shape[0])\n",
    "        return accuracy\n",
    "        \n",
    "    # x:入力データ, t:教師データ\n",
    "    def numerical_gradient(self, x, t):\n",
    "        loss_W = lambda W: self.loss(x, t)\n",
    "        \n",
    "        grads = {}\n",
    "        grads['W1'] = numerical_gradient(loss_W, self.params['W1'])\n",
    "        grads['b1'] = numerical_gradient(loss_W, self.params['b1'])\n",
    "        grads['W2'] = numerical_gradient(loss_W, self.params['W2'])\n",
    "        grads['b2'] = numerical_gradient(loss_W, self.params['b2'])\n",
    "        \n",
    "        return grads\n",
    "        \n",
    "    def gradient(self, x, t):\n",
    "        W1, W2 = self.params['W1'], self.params['W2']\n",
    "        b1, b2 = self.params['b1'], self.params['b2']\n",
    "        grads = {}\n",
    "        \n",
    "        batch_num = x.shape[0]\n",
    "        \n",
    "        # forward\n",
    "        a1 = np.dot(x, W1) + b1\n",
    "        z1 = sigmoid(a1)\n",
    "        a2 = np.dot(z1, W2) + b2\n",
    "        y = softmax(a2)\n",
    "        \n",
    "        # backward\n",
    "        dy = (y - t) / batch_num\n",
    "        grads['W2'] = np.dot(z1.T, dy)\n",
    "        grads['b2'] = np.sum(dy, axis=0)\n",
    "        \n",
    "        da1 = np.dot(dy, W2.T)\n",
    "        dz1 = sigmoid_grad(a1) * da1\n",
    "        grads['W1'] = np.dot(x.T, dz1)\n",
    "        grads['b1'] = np.sum(dz1, axis=0)\n",
    "\n",
    "        return grads"
   ]
  },
  {
   "cell_type": "code",
   "execution_count": 68,
   "metadata": {},
   "outputs": [
    {
     "data": {
      "text/plain": [
       "(10,)"
      ]
     },
     "execution_count": 68,
     "metadata": {},
     "output_type": "execute_result"
    }
   ],
   "source": [
    "net = TwoLayerNet(input_size=784, hidden_size=100, output_size=10)\n",
    "net.params['W1'].shape # (784, 100)\n",
    "net.params['b1'].shape # (100,)\n",
    "net.params['W2'].shape # (100, 10)\n",
    "net.params['b2'].shape # (10,)"
   ]
  },
  {
   "cell_type": "code",
   "execution_count": 71,
   "metadata": {},
   "outputs": [
    {
     "data": {
      "text/plain": [
       "array([[ 0.09260283,  0.09609445,  0.09794626,  0.1074392 ,  0.09328033,\n",
       "         0.10245671,  0.09957867,  0.10313331,  0.11225554,  0.09521271],\n",
       "       [ 0.09225887,  0.09589697,  0.09832332,  0.10742313,  0.0931989 ,\n",
       "         0.1028384 ,  0.09957739,  0.10282788,  0.11255736,  0.09509778],\n",
       "       [ 0.09288318,  0.09582096,  0.09789821,  0.10763835,  0.09314212,\n",
       "         0.10256811,  0.09941103,  0.10299763,  0.11253563,  0.09510479],\n",
       "       [ 0.09260789,  0.09580814,  0.0983959 ,  0.10747283,  0.09338488,\n",
       "         0.10296292,  0.0995078 ,  0.10279607,  0.11214396,  0.09491961],\n",
       "       [ 0.09265447,  0.09595607,  0.09827556,  0.10735234,  0.09329472,\n",
       "         0.10281008,  0.0994199 ,  0.10301476,  0.11209856,  0.09512353],\n",
       "       [ 0.09240374,  0.09608734,  0.09812507,  0.10754527,  0.09320526,\n",
       "         0.10288759,  0.09952137,  0.10276706,  0.11231512,  0.09514221],\n",
       "       [ 0.09273496,  0.09601976,  0.09818864,  0.10771393,  0.09281762,\n",
       "         0.10234425,  0.09954155,  0.10282582,  0.11251743,  0.09529602],\n",
       "       [ 0.09302388,  0.09632826,  0.09814643,  0.10737555,  0.0928828 ,\n",
       "         0.10297448,  0.09933454,  0.10276803,  0.11255011,  0.09461591],\n",
       "       [ 0.09288093,  0.09615546,  0.09803915,  0.10724831,  0.09304463,\n",
       "         0.10278913,  0.09946324,  0.10303088,  0.11225817,  0.09509011],\n",
       "       [ 0.09282804,  0.09638481,  0.09804186,  0.10754114,  0.09308867,\n",
       "         0.10252162,  0.09933654,  0.10309772,  0.11212493,  0.09503466],\n",
       "       [ 0.09283401,  0.09627793,  0.09795898,  0.10741576,  0.09302866,\n",
       "         0.10259349,  0.09948392,  0.1029581 ,  0.11233559,  0.09511356],\n",
       "       [ 0.09263576,  0.09627313,  0.09828809,  0.10731535,  0.09308296,\n",
       "         0.1026145 ,  0.09960979,  0.10297728,  0.11249212,  0.09471102],\n",
       "       [ 0.09302343,  0.09616155,  0.09801881,  0.10738027,  0.09310997,\n",
       "         0.10268796,  0.09956219,  0.10297661,  0.11213896,  0.09494026],\n",
       "       [ 0.09275697,  0.09610014,  0.09801759,  0.10772846,  0.09346458,\n",
       "         0.10256647,  0.09951268,  0.10305272,  0.11208028,  0.09472012],\n",
       "       [ 0.09256352,  0.09597939,  0.09787649,  0.1071253 ,  0.09327958,\n",
       "         0.10270193,  0.09996861,  0.10301496,  0.11245561,  0.09503462],\n",
       "       [ 0.09289972,  0.09620964,  0.09790012,  0.10735108,  0.09316835,\n",
       "         0.10236897,  0.09976808,  0.10307729,  0.11221084,  0.09504591],\n",
       "       [ 0.09266545,  0.09634611,  0.09797269,  0.10766   ,  0.09325406,\n",
       "         0.10239008,  0.0995716 ,  0.10288028,  0.11221718,  0.09504255],\n",
       "       [ 0.09262   ,  0.09640817,  0.09798639,  0.10731657,  0.0930434 ,\n",
       "         0.10262604,  0.09976483,  0.10310712,  0.11234814,  0.09477934],\n",
       "       [ 0.0927785 ,  0.09634549,  0.09805354,  0.10748937,  0.09341705,\n",
       "         0.10258701,  0.09948454,  0.1028322 ,  0.11209414,  0.09491815],\n",
       "       [ 0.09253156,  0.09594021,  0.09819522,  0.10735754,  0.09339696,\n",
       "         0.10289242,  0.09952163,  0.10287295,  0.11231034,  0.09498119],\n",
       "       [ 0.09273635,  0.09581777,  0.09815662,  0.10783456,  0.09282055,\n",
       "         0.10264239,  0.09972848,  0.10281027,  0.11205068,  0.09540232],\n",
       "       [ 0.09304803,  0.09612825,  0.0982231 ,  0.10721668,  0.0932664 ,\n",
       "         0.10294186,  0.09949178,  0.10256187,  0.1120908 ,  0.09503123],\n",
       "       [ 0.0926413 ,  0.09623817,  0.09796914,  0.1075064 ,  0.09313565,\n",
       "         0.10258842,  0.09943795,  0.10288211,  0.11268186,  0.094919  ],\n",
       "       [ 0.09256276,  0.09634838,  0.09810415,  0.10774129,  0.09293703,\n",
       "         0.10279439,  0.09928853,  0.1026869 ,  0.11248095,  0.09505562],\n",
       "       [ 0.0929699 ,  0.09649107,  0.09812599,  0.10751908,  0.09335519,\n",
       "         0.1025627 ,  0.09943334,  0.10289835,  0.11186292,  0.09478146],\n",
       "       [ 0.09267073,  0.09573151,  0.09852681,  0.10756666,  0.09329621,\n",
       "         0.10293932,  0.09959192,  0.10268183,  0.1120487 ,  0.09494631],\n",
       "       [ 0.09258639,  0.09573986,  0.09814214,  0.10754248,  0.0930456 ,\n",
       "         0.10267039,  0.09966094,  0.10290281,  0.11273356,  0.09497583],\n",
       "       [ 0.09278908,  0.0959999 ,  0.09809822,  0.10759744,  0.09314126,\n",
       "         0.10255492,  0.0995965 ,  0.1027741 ,  0.112327  ,  0.09512158],\n",
       "       [ 0.09291047,  0.09592938,  0.09819331,  0.1076077 ,  0.09294244,\n",
       "         0.10264775,  0.09950379,  0.10281362,  0.11232869,  0.09512284],\n",
       "       [ 0.09261172,  0.09635897,  0.09783786,  0.1073853 ,  0.09320641,\n",
       "         0.10252957,  0.09952808,  0.1026163 ,  0.11266824,  0.09525753],\n",
       "       [ 0.09251276,  0.09638396,  0.09834023,  0.10752232,  0.09295867,\n",
       "         0.1027889 ,  0.09954985,  0.10289852,  0.11216813,  0.09487667],\n",
       "       [ 0.09285046,  0.09627531,  0.09814496,  0.10737096,  0.09317372,\n",
       "         0.10229278,  0.09962804,  0.10304294,  0.11242301,  0.09479782],\n",
       "       [ 0.09290214,  0.09603819,  0.09810918,  0.10728623,  0.0930881 ,\n",
       "         0.10280091,  0.09940233,  0.1026569 ,  0.11252926,  0.09518677],\n",
       "       [ 0.09257803,  0.09619763,  0.09794701,  0.10762747,  0.0930318 ,\n",
       "         0.10286389,  0.09948582,  0.10280585,  0.11248113,  0.09498137],\n",
       "       [ 0.09261047,  0.0961759 ,  0.0981961 ,  0.10685026,  0.0932176 ,\n",
       "         0.10284851,  0.09952536,  0.1029123 ,  0.11231031,  0.09535319],\n",
       "       [ 0.09285111,  0.09616712,  0.09823947,  0.10757643,  0.09271609,\n",
       "         0.10282583,  0.09943335,  0.10293536,  0.11212461,  0.09513062],\n",
       "       [ 0.09303626,  0.09594368,  0.0981329 ,  0.10772019,  0.09287774,\n",
       "         0.10266155,  0.09943602,  0.10293455,  0.11229765,  0.09495946],\n",
       "       [ 0.09280685,  0.09582446,  0.09787363,  0.10757397,  0.09293972,\n",
       "         0.10261758,  0.09964677,  0.1031638 ,  0.11233583,  0.09521739],\n",
       "       [ 0.09266906,  0.09627868,  0.09793688,  0.10743942,  0.09331693,\n",
       "         0.10229094,  0.09958302,  0.10277959,  0.11253886,  0.09516662],\n",
       "       [ 0.09243584,  0.09584485,  0.09822277,  0.10758953,  0.09322134,\n",
       "         0.10254907,  0.0997052 ,  0.10291685,  0.11233483,  0.09517971],\n",
       "       [ 0.09263385,  0.09614888,  0.0981239 ,  0.10775668,  0.09299594,\n",
       "         0.10270201,  0.09969572,  0.10271509,  0.11217582,  0.09505211],\n",
       "       [ 0.0929287 ,  0.09639042,  0.09805895,  0.10726741,  0.09298941,\n",
       "         0.10225523,  0.10002258,  0.10273937,  0.11223353,  0.09511439],\n",
       "       [ 0.09290124,  0.09590129,  0.09832555,  0.10741181,  0.09297253,\n",
       "         0.10272972,  0.09947122,  0.10294946,  0.11216561,  0.09517157],\n",
       "       [ 0.09294624,  0.09622669,  0.09801116,  0.10718981,  0.09330528,\n",
       "         0.10273854,  0.09936245,  0.10278619,  0.11230028,  0.09513336],\n",
       "       [ 0.09286881,  0.09628895,  0.09816389,  0.10753688,  0.09308853,\n",
       "         0.10260838,  0.09931231,  0.10298338,  0.11217946,  0.09496941],\n",
       "       [ 0.09273058,  0.09616309,  0.09833063,  0.10757843,  0.09341761,\n",
       "         0.10258545,  0.09932232,  0.1026581 ,  0.11227924,  0.09493455],\n",
       "       [ 0.09292848,  0.09618532,  0.09832119,  0.10752405,  0.09350379,\n",
       "         0.10233203,  0.09949634,  0.10270373,  0.11191208,  0.09509299],\n",
       "       [ 0.0926993 ,  0.0962809 ,  0.09807817,  0.10761594,  0.0932298 ,\n",
       "         0.1028109 ,  0.09959039,  0.10283575,  0.11192516,  0.09493369],\n",
       "       [ 0.09277594,  0.09599126,  0.09804717,  0.10730094,  0.09341854,\n",
       "         0.10270205,  0.09963663,  0.10281113,  0.11253971,  0.09477664],\n",
       "       [ 0.09294967,  0.09600615,  0.09827751,  0.10722558,  0.09297649,\n",
       "         0.10248757,  0.09987786,  0.10276052,  0.11242878,  0.09500987],\n",
       "       [ 0.09290442,  0.09629686,  0.09792059,  0.10720179,  0.09309099,\n",
       "         0.10265077,  0.09975882,  0.10260427,  0.11248662,  0.09508487],\n",
       "       [ 0.09284134,  0.09649852,  0.09817847,  0.10732604,  0.0932116 ,\n",
       "         0.10242636,  0.09962819,  0.10280536,  0.11220806,  0.09487606],\n",
       "       [ 0.0927396 ,  0.09616385,  0.09832044,  0.10757784,  0.09320683,\n",
       "         0.10275497,  0.0995064 ,  0.10283158,  0.11204885,  0.09484965],\n",
       "       [ 0.09289188,  0.09650726,  0.09795506,  0.1073549 ,  0.09278429,\n",
       "         0.10266347,  0.09943237,  0.10310962,  0.11211982,  0.09518131],\n",
       "       [ 0.09269289,  0.09578868,  0.09834111,  0.10759035,  0.0934922 ,\n",
       "         0.10293608,  0.09972333,  0.10234454,  0.11214866,  0.09494217],\n",
       "       [ 0.09292282,  0.09613997,  0.09812315,  0.10728429,  0.09336988,\n",
       "         0.10256334,  0.09948565,  0.10292787,  0.11220537,  0.09497766],\n",
       "       [ 0.09274051,  0.09585502,  0.09820375,  0.10760859,  0.0934389 ,\n",
       "         0.10271848,  0.09922726,  0.10295233,  0.11239205,  0.09486313],\n",
       "       [ 0.09237178,  0.09600036,  0.09821632,  0.10792851,  0.09312345,\n",
       "         0.10269821,  0.09982632,  0.1027334 ,  0.11223188,  0.09486977],\n",
       "       [ 0.09229907,  0.09626776,  0.09819598,  0.10745453,  0.0933203 ,\n",
       "         0.10249766,  0.09949772,  0.10286703,  0.11252421,  0.09507574],\n",
       "       [ 0.09285552,  0.09565009,  0.0982343 ,  0.10765743,  0.09328423,\n",
       "         0.1026544 ,  0.09954253,  0.10308614,  0.11210897,  0.09492639],\n",
       "       [ 0.09260624,  0.09612503,  0.09814084,  0.1075546 ,  0.09319084,\n",
       "         0.1025157 ,  0.09976102,  0.10287074,  0.11238273,  0.09485225],\n",
       "       [ 0.09258962,  0.09581727,  0.09823338,  0.1074672 ,  0.09286433,\n",
       "         0.1026732 ,  0.09962075,  0.10292509,  0.11253566,  0.0952735 ],\n",
       "       [ 0.09273715,  0.09615835,  0.0983312 ,  0.10769209,  0.09292751,\n",
       "         0.10234214,  0.09975855,  0.10282982,  0.11234425,  0.09487895],\n",
       "       [ 0.09282025,  0.09631195,  0.09812008,  0.10716378,  0.09292188,\n",
       "         0.10279501,  0.09947232,  0.102479  ,  0.11252756,  0.09538818],\n",
       "       [ 0.09264817,  0.09619177,  0.09786426,  0.10747686,  0.09335116,\n",
       "         0.1029635 ,  0.09953917,  0.10301385,  0.11213988,  0.09481137],\n",
       "       [ 0.09298813,  0.09595267,  0.09804015,  0.10758354,  0.09292888,\n",
       "         0.10240221,  0.09978551,  0.10284456,  0.11249279,  0.09498156],\n",
       "       [ 0.09273617,  0.09650043,  0.09842697,  0.10714225,  0.09347021,\n",
       "         0.10265375,  0.0994333 ,  0.10266268,  0.11217093,  0.09480332],\n",
       "       [ 0.09251477,  0.09611973,  0.09832881,  0.10729231,  0.09317513,\n",
       "         0.10268757,  0.09961788,  0.10267663,  0.11244455,  0.09514263],\n",
       "       [ 0.09268577,  0.09612325,  0.09841006,  0.10755621,  0.09277112,\n",
       "         0.1024782 ,  0.09955446,  0.10284474,  0.11254934,  0.09502685],\n",
       "       [ 0.09262782,  0.09589313,  0.09840377,  0.1078094 ,  0.09309598,\n",
       "         0.10251966,  0.09928378,  0.10276219,  0.11243812,  0.09516616],\n",
       "       [ 0.09283267,  0.09605494,  0.09825248,  0.10713909,  0.09308114,\n",
       "         0.10260056,  0.09936072,  0.10300092,  0.11239786,  0.09527962],\n",
       "       [ 0.09272209,  0.0961491 ,  0.09821881,  0.1074827 ,  0.09334647,\n",
       "         0.10285785,  0.09921501,  0.10266415,  0.11227907,  0.09506475],\n",
       "       [ 0.09289893,  0.09606871,  0.09798201,  0.10739708,  0.09354062,\n",
       "         0.10246331,  0.0994741 ,  0.10278116,  0.11220041,  0.09519368],\n",
       "       [ 0.09252952,  0.09633468,  0.09814136,  0.1074322 ,  0.09310914,\n",
       "         0.10270614,  0.09943998,  0.10282893,  0.11256513,  0.09491291],\n",
       "       [ 0.09271261,  0.09614353,  0.09842525,  0.10727805,  0.09324131,\n",
       "         0.10266877,  0.09946969,  0.1023954 ,  0.11223943,  0.09542597],\n",
       "       [ 0.09281415,  0.09635224,  0.09803781,  0.10713524,  0.09336013,\n",
       "         0.10227862,  0.09979914,  0.1029851 ,  0.11238067,  0.09485689],\n",
       "       [ 0.09251261,  0.09597542,  0.09817786,  0.10758841,  0.09296875,\n",
       "         0.10281722,  0.09973832,  0.10281775,  0.11217915,  0.0952245 ],\n",
       "       [ 0.09299977,  0.09580729,  0.09824743,  0.10720405,  0.09320467,\n",
       "         0.10255998,  0.09984192,  0.10274358,  0.11246009,  0.09493124],\n",
       "       [ 0.09279105,  0.09631843,  0.09830036,  0.1074941 ,  0.09307688,\n",
       "         0.10253471,  0.0995114 ,  0.10311229,  0.11228923,  0.09457156],\n",
       "       [ 0.09282562,  0.09561068,  0.09823602,  0.10745742,  0.09331058,\n",
       "         0.10266281,  0.09994884,  0.10271199,  0.11196915,  0.0952669 ],\n",
       "       [ 0.09262345,  0.09594978,  0.09843706,  0.10774099,  0.09305773,\n",
       "         0.10242538,  0.09943031,  0.10280784,  0.11273716,  0.09479031],\n",
       "       [ 0.09288473,  0.09592011,  0.09840541,  0.10730384,  0.09313038,\n",
       "         0.10249054,  0.0995478 ,  0.10257538,  0.11272777,  0.09501406],\n",
       "       [ 0.09292787,  0.09604113,  0.09815888,  0.10739075,  0.09332554,\n",
       "         0.10265146,  0.09933796,  0.10295834,  0.11218737,  0.09502072],\n",
       "       [ 0.0928948 ,  0.09615816,  0.098139  ,  0.10709094,  0.09292356,\n",
       "         0.10246803,  0.09988714,  0.10325897,  0.11208231,  0.09509709],\n",
       "       [ 0.09252544,  0.09564785,  0.09789461,  0.10765726,  0.0933593 ,\n",
       "         0.10264582,  0.09966838,  0.10279912,  0.1127384 ,  0.09506383],\n",
       "       [ 0.09310926,  0.09601945,  0.09781177,  0.10751383,  0.09316584,\n",
       "         0.10277873,  0.09957831,  0.10293433,  0.11209495,  0.09499353],\n",
       "       [ 0.09272916,  0.09581115,  0.09809527,  0.10781528,  0.09348573,\n",
       "         0.10257   ,  0.09947536,  0.10260586,  0.1124156 ,  0.09499659],\n",
       "       [ 0.09261354,  0.09598353,  0.09848914,  0.10781756,  0.09309215,\n",
       "         0.10327108,  0.09938367,  0.10272327,  0.11178186,  0.09484419],\n",
       "       [ 0.09304092,  0.09617199,  0.09819995,  0.10759947,  0.09338792,\n",
       "         0.10298925,  0.09933456,  0.10265782,  0.11203013,  0.094588  ],\n",
       "       [ 0.09287813,  0.09588013,  0.09808786,  0.10753412,  0.09317031,\n",
       "         0.10233107,  0.09953327,  0.10319059,  0.11247639,  0.09491814],\n",
       "       [ 0.09250344,  0.09619227,  0.09813561,  0.10752599,  0.0930226 ,\n",
       "         0.10237075,  0.09958614,  0.10264777,  0.11265792,  0.09535751],\n",
       "       [ 0.09300285,  0.09610858,  0.09834044,  0.10721492,  0.09328869,\n",
       "         0.1027572 ,  0.09971968,  0.10277486,  0.11193693,  0.09485585],\n",
       "       [ 0.09296952,  0.09608315,  0.09796957,  0.10753733,  0.09323995,\n",
       "         0.10259696,  0.09947012,  0.10275735,  0.11241192,  0.09496414],\n",
       "       [ 0.09264129,  0.09593282,  0.09808824,  0.10736675,  0.09352551,\n",
       "         0.10268375,  0.09933924,  0.1028965 ,  0.11251855,  0.09500734],\n",
       "       [ 0.09282346,  0.09606084,  0.09832524,  0.10755657,  0.09314925,\n",
       "         0.10235467,  0.09952587,  0.10285243,  0.1122392 ,  0.09511247],\n",
       "       [ 0.09261761,  0.09628831,  0.09809579,  0.1074863 ,  0.09309031,\n",
       "         0.1026473 ,  0.09981108,  0.10297293,  0.11219003,  0.09480033],\n",
       "       [ 0.09272201,  0.09631496,  0.09820106,  0.10731701,  0.09317584,\n",
       "         0.1025851 ,  0.09928332,  0.10295824,  0.11245584,  0.09498662],\n",
       "       [ 0.0924685 ,  0.0960205 ,  0.09806507,  0.10739749,  0.09318495,\n",
       "         0.10253597,  0.09969156,  0.10307109,  0.11264807,  0.09491681],\n",
       "       [ 0.09268042,  0.09620477,  0.09809222,  0.10737377,  0.09321465,\n",
       "         0.10253353,  0.09901942,  0.10276974,  0.11272731,  0.09538419],\n",
       "       [ 0.09272114,  0.09598832,  0.09814628,  0.10751678,  0.09298853,\n",
       "         0.10301375,  0.09966893,  0.10278046,  0.11223655,  0.09493926]])"
      ]
     },
     "execution_count": 71,
     "metadata": {},
     "output_type": "execute_result"
    }
   ],
   "source": [
    "x = np.random.rand(100, 784) # ダミーの入力データ(100 枚分) \n",
    "y = net.predict(x) \n",
    "y"
   ]
  },
  {
   "cell_type": "code",
   "execution_count": 70,
   "metadata": {},
   "outputs": [
    {
     "data": {
      "text/plain": [
       "{'W1': array([[  4.71589019e-04,   7.45221169e-05,   1.45779388e-03, ...,\n",
       "          -1.38220465e-03,  -5.17576436e-04,  -2.51008656e-03],\n",
       "        [  5.59025808e-04,   5.97406136e-05,   1.83257976e-03, ...,\n",
       "          -1.63668188e-03,  -6.52704685e-04,  -2.85119642e-03],\n",
       "        [  6.80549912e-04,   1.96075803e-04,   1.53759969e-03, ...,\n",
       "          -1.53334394e-03,  -5.33414794e-04,  -2.57372555e-03],\n",
       "        ..., \n",
       "        [  6.66365124e-04,   8.81338367e-05,   1.51195444e-03, ...,\n",
       "          -1.59829475e-03,  -4.94826616e-04,  -2.62414126e-03],\n",
       "        [  6.29301199e-04,   6.23045346e-05,   1.80051878e-03, ...,\n",
       "          -1.76668861e-03,  -6.06702072e-04,  -2.97982123e-03],\n",
       "        [  5.80956979e-04,   1.53386349e-04,   1.69885469e-03, ...,\n",
       "          -1.64871948e-03,  -5.98351811e-04,  -3.10961409e-03]]),\n",
       " 'W2': array([[-0.16666468, -0.17692486, -0.15885248, -0.18132497, -0.20466229,\n",
       "         -0.1857591 , -0.19570629, -0.18011445, -0.17015397, -0.17800647],\n",
       "        [-0.17697478, -0.1885457 , -0.16950141, -0.19378979, -0.21858005,\n",
       "         -0.19792565, -0.21017178, -0.19300259, -0.17993608, -0.19137365],\n",
       "        [-0.16530424, -0.17551062, -0.15845585, -0.17951544, -0.20444018,\n",
       "         -0.18411877, -0.19528735, -0.18049731, -0.16918617, -0.17770615],\n",
       "        [-0.2097009 , -0.2239508 , -0.20167048, -0.22821514, -0.25968235,\n",
       "         -0.23450972, -0.24853775, -0.22803771, -0.21501761, -0.22482712],\n",
       "        [-0.19342519, -0.20592876, -0.18482613, -0.21068949, -0.23891679,\n",
       "         -0.21628762, -0.22845157, -0.21028684, -0.19751598, -0.20782186],\n",
       "        [-0.1983808 , -0.21035414, -0.18968748, -0.21443245, -0.243656  ,\n",
       "         -0.22132773, -0.2336354 , -0.21463731, -0.20261978, -0.21095307],\n",
       "        [-0.17470945, -0.18399498, -0.1660342 , -0.1888737 , -0.2140394 ,\n",
       "         -0.19504815, -0.20540004, -0.19028984, -0.17818292, -0.18598661],\n",
       "        [-0.18775966, -0.19888227, -0.17945836, -0.20348229, -0.2314717 ,\n",
       "         -0.20936744, -0.22150968, -0.20362319, -0.19129651, -0.20146095],\n",
       "        [-0.17372146, -0.18342268, -0.16471618, -0.18752537, -0.21272221,\n",
       "         -0.19316338, -0.20473159, -0.18807727, -0.17635614, -0.18690227],\n",
       "        [-0.17598008, -0.18832763, -0.16905803, -0.19150871, -0.21716242,\n",
       "         -0.19592804, -0.20802404, -0.19191708, -0.18093584, -0.18922577],\n",
       "        [-0.19580024, -0.20767503, -0.18653509, -0.21301204, -0.24093204,\n",
       "         -0.21855116, -0.23119882, -0.21309324, -0.20127979, -0.20940701],\n",
       "        [-0.20610096, -0.21856273, -0.19635588, -0.22391491, -0.25453365,\n",
       "         -0.22935926, -0.24382557, -0.22439508, -0.21016977, -0.22107349],\n",
       "        [-0.19118555, -0.20246431, -0.18207736, -0.20595371, -0.23370894,\n",
       "         -0.21176761, -0.2242316 , -0.20596732, -0.19377695, -0.20332613],\n",
       "        [-0.19365588, -0.20471862, -0.18392814, -0.20911605, -0.23723553,\n",
       "         -0.21438216, -0.22692727, -0.20839507, -0.19651666, -0.207819  ],\n",
       "        [-0.21274136, -0.22697956, -0.20380497, -0.23099649, -0.2626747 ,\n",
       "         -0.23752485, -0.25221364, -0.2314693 , -0.21725861, -0.22900194],\n",
       "        [-0.18294249, -0.19417397, -0.17439473, -0.1965767 , -0.22425205,\n",
       "         -0.20273284, -0.21577888, -0.19824623, -0.18538056, -0.19580343],\n",
       "        [-0.2134945 , -0.22768818, -0.20382985, -0.23319067, -0.26353025,\n",
       "         -0.23861248, -0.25231304, -0.23348341, -0.21914647, -0.22899421],\n",
       "        [-0.18314568, -0.19364946, -0.17573347, -0.20011872, -0.22530783,\n",
       "         -0.20513223, -0.21713086, -0.19924052, -0.18787648, -0.19730442],\n",
       "        [-0.17879328, -0.1903683 , -0.17077955, -0.19390278, -0.21971257,\n",
       "         -0.19881805, -0.20989837, -0.1938569 , -0.18206955, -0.19190685],\n",
       "        [-0.19866041, -0.21170278, -0.18931007, -0.21587343, -0.24509472,\n",
       "         -0.22235803, -0.23492248, -0.2173931 , -0.20309313, -0.21314318],\n",
       "        [-0.18914918, -0.20176672, -0.18026221, -0.20547793, -0.23346155,\n",
       "         -0.21093149, -0.22339485, -0.2060866 , -0.19297902, -0.20260237],\n",
       "        [-0.17558971, -0.18629205, -0.16839422, -0.1902095 , -0.21620735,\n",
       "         -0.19480939, -0.20594141, -0.1901422 , -0.17893715, -0.18700093],\n",
       "        [-0.19758138, -0.2100734 , -0.1887114 , -0.21337089, -0.24354576,\n",
       "         -0.22013416, -0.23279483, -0.2145302 , -0.20144974, -0.21089572],\n",
       "        [-0.19510687, -0.20705986, -0.18620369, -0.212117  , -0.23946676,\n",
       "         -0.21894896, -0.23099112, -0.21364712, -0.19985773, -0.20987732],\n",
       "        [-0.19330537, -0.20354811, -0.18313031, -0.20908846, -0.23607437,\n",
       "         -0.21488394, -0.22692524, -0.20942173, -0.19606593, -0.20630848],\n",
       "        [-0.18517391, -0.19717734, -0.1768699 , -0.20169446, -0.22871912,\n",
       "         -0.20718977, -0.21897248, -0.2021479 , -0.18991328, -0.19817444],\n",
       "        [-0.18265949, -0.19411428, -0.17469548, -0.19795528, -0.22442543,\n",
       "         -0.20305821, -0.21388541, -0.19875989, -0.18568688, -0.19570883],\n",
       "        [-0.21353736, -0.2270404 , -0.20434505, -0.23198699, -0.2631546 ,\n",
       "         -0.23883606, -0.25168566, -0.23157405, -0.21832547, -0.22833566],\n",
       "        [-0.20480777, -0.21680998, -0.19485602, -0.22206198, -0.25178783,\n",
       "         -0.22776115, -0.24250436, -0.22297863, -0.2090914 , -0.21966802],\n",
       "        [-0.19425919, -0.20681546, -0.18648382, -0.2114566 , -0.24109726,\n",
       "         -0.21726691, -0.23150736, -0.21241376, -0.19844862, -0.20856116],\n",
       "        [-0.1814713 , -0.1941674 , -0.17374324, -0.19760633, -0.22450962,\n",
       "         -0.20332177, -0.21408621, -0.19735712, -0.18636776, -0.19591909],\n",
       "        [-0.18395692, -0.19638831, -0.17679956, -0.19980826, -0.22696652,\n",
       "         -0.20560945, -0.2174095 , -0.20111919, -0.18920604, -0.197346  ],\n",
       "        [-0.22013538, -0.23385123, -0.210109  , -0.2399063 , -0.27136702,\n",
       "         -0.24498656, -0.26021602, -0.2388698 , -0.22526376, -0.23638366],\n",
       "        [-0.17575203, -0.18644013, -0.16749866, -0.19121396, -0.21623171,\n",
       "         -0.19671695, -0.20661572, -0.19001955, -0.1798092 , -0.18787973],\n",
       "        [-0.1669126 , -0.17794713, -0.15970527, -0.18282953, -0.2060897 ,\n",
       "         -0.18645467, -0.19795839, -0.18213341, -0.17136958, -0.18022572],\n",
       "        [-0.17570911, -0.18680084, -0.16651212, -0.19100279, -0.21485548,\n",
       "         -0.19557094, -0.20703712, -0.1911998 , -0.17923575, -0.18890125],\n",
       "        [-0.18375239, -0.19574992, -0.17587452, -0.19994798, -0.2266726 ,\n",
       "         -0.20501954, -0.21697728, -0.20037849, -0.18813536, -0.19769241],\n",
       "        [-0.16064437, -0.17165819, -0.15472395, -0.17543566, -0.19846261,\n",
       "         -0.17992375, -0.18958894, -0.17580029, -0.16502029, -0.17281686],\n",
       "        [-0.206533  , -0.21868265, -0.19568834, -0.22459103, -0.25321337,\n",
       "         -0.23048066, -0.24321954, -0.22399625, -0.2100936 , -0.22173261],\n",
       "        [-0.18566638, -0.19672822, -0.17637524, -0.20176765, -0.22807623,\n",
       "         -0.20666839, -0.2185066 , -0.2034428 , -0.18916849, -0.19957455],\n",
       "        [-0.16885918, -0.18070449, -0.16077392, -0.18442407, -0.20768346,\n",
       "         -0.18890401, -0.1999743 , -0.18250842, -0.17304166, -0.18116376],\n",
       "        [-0.19088175, -0.20560524, -0.18363355, -0.21065221, -0.23649762,\n",
       "         -0.21485295, -0.22716443, -0.20949875, -0.19645198, -0.20648321],\n",
       "        [-0.19899877, -0.2112956 , -0.19017102, -0.21540945, -0.24468482,\n",
       "         -0.22217908, -0.23525076, -0.21708859, -0.20269688, -0.21288723],\n",
       "        [-0.17386253, -0.1852769 , -0.16527108, -0.18857268, -0.21382324,\n",
       "         -0.19371574, -0.20470079, -0.18922875, -0.17680187, -0.186346  ],\n",
       "        [-0.18996644, -0.20079731, -0.17987964, -0.2072261 , -0.23354817,\n",
       "         -0.2122473 , -0.22368657, -0.20730441, -0.19450684, -0.20424348],\n",
       "        [-0.2043156 , -0.21653263, -0.19418478, -0.22169133, -0.25119361,\n",
       "         -0.22721106, -0.24142831, -0.22232621, -0.20856888, -0.2193923 ],\n",
       "        [-0.19565919, -0.20781765, -0.18702323, -0.21256472, -0.24059878,\n",
       "         -0.21805854, -0.23171876, -0.21307681, -0.19912844, -0.21109321],\n",
       "        [-0.20110674, -0.21561895, -0.19309436, -0.21914803, -0.24866771,\n",
       "         -0.22421853, -0.23783175, -0.21970049, -0.20603543, -0.2159808 ],\n",
       "        [-0.16687912, -0.17719677, -0.15848192, -0.17931397, -0.20473026,\n",
       "         -0.18457425, -0.19497611, -0.18117142, -0.16992212, -0.17772265],\n",
       "        [-0.2082006 , -0.21928867, -0.19686525, -0.22541736, -0.25433616,\n",
       "         -0.23121254, -0.24478425, -0.22566538, -0.21230322, -0.22205493],\n",
       "        [-0.16814536, -0.17869459, -0.15990735, -0.18248727, -0.20739439,\n",
       "         -0.18713331, -0.19868453, -0.18353168, -0.172403  , -0.18080865],\n",
       "        [-0.20230337, -0.21390039, -0.19141713, -0.21841793, -0.24835805,\n",
       "         -0.22478318, -0.23865914, -0.21961574, -0.20616038, -0.21707114],\n",
       "        [-0.19647901, -0.20801979, -0.18725743, -0.21205719, -0.24187621,\n",
       "         -0.21973883, -0.23172079, -0.21332475, -0.19952006, -0.21098963],\n",
       "        [-0.21475781, -0.22687664, -0.20419634, -0.23282168, -0.26280876,\n",
       "         -0.23948341, -0.25326762, -0.23301763, -0.21929514, -0.23014903],\n",
       "        [-0.18681171, -0.19884921, -0.17843052, -0.20226294, -0.23023308,\n",
       "         -0.20934807, -0.22027142, -0.20406445, -0.18997494, -0.20124589],\n",
       "        [-0.20306884, -0.21686237, -0.1938258 , -0.22072955, -0.2499443 ,\n",
       "         -0.22587222, -0.23895645, -0.2204359 , -0.20806863, -0.21724027],\n",
       "        [-0.19703226, -0.2091194 , -0.18783648, -0.21308589, -0.24121077,\n",
       "         -0.21871541, -0.23161948, -0.21262354, -0.19999237, -0.20971277],\n",
       "        [-0.21481758, -0.22865557, -0.20545241, -0.23259346, -0.26444303,\n",
       "         -0.23959899, -0.25344981, -0.23394023, -0.21943163, -0.23021107],\n",
       "        [-0.20188824, -0.21331715, -0.19029259, -0.21732458, -0.2465662 ,\n",
       "         -0.22402923, -0.23648753, -0.21823852, -0.20488008, -0.21517017],\n",
       "        [-0.18386325, -0.19500115, -0.17545389, -0.19991417, -0.22665559,\n",
       "         -0.20598008, -0.21789906, -0.20000423, -0.18761318, -0.19708279],\n",
       "        [-0.22019185, -0.23403491, -0.21036721, -0.23920102, -0.27099469,\n",
       "         -0.24594113, -0.26005364, -0.24015845, -0.22590037, -0.23485364],\n",
       "        [-0.19474634, -0.20864503, -0.18571983, -0.21176894, -0.24032024,\n",
       "         -0.21685084, -0.23001672, -0.21244816, -0.19910388, -0.20940697],\n",
       "        [-0.17233309, -0.18177422, -0.16409641, -0.18679229, -0.21129672,\n",
       "         -0.19103389, -0.20329496, -0.18652912, -0.17567953, -0.18391815],\n",
       "        [-0.19949928, -0.21274674, -0.18917442, -0.21678105, -0.24584841,\n",
       "         -0.22307969, -0.23575356, -0.21748496, -0.20411741, -0.21473859],\n",
       "        [-0.16467496, -0.17549457, -0.15730477, -0.17946015, -0.20253586,\n",
       "         -0.18430281, -0.19503834, -0.1790979 , -0.16860119, -0.17690986],\n",
       "        [-0.18838124, -0.1985561 , -0.17861408, -0.20356933, -0.23045403,\n",
       "         -0.20904266, -0.22046001, -0.20386757, -0.19132626, -0.2013225 ],\n",
       "        [-0.18464838, -0.19621634, -0.17509617, -0.19997091, -0.22692908,\n",
       "         -0.20528208, -0.21757093, -0.20208226, -0.18759199, -0.1977236 ],\n",
       "        [-0.19460888, -0.20604684, -0.18437751, -0.21061186, -0.23836162,\n",
       "         -0.21699787, -0.22920501, -0.2122158 , -0.19863103, -0.20879203],\n",
       "        [-0.18360229, -0.19437338, -0.175443  , -0.19876533, -0.22464186,\n",
       "         -0.20400217, -0.2153803 , -0.19780392, -0.18685581, -0.19556411],\n",
       "        [-0.17439822, -0.18462274, -0.16559882, -0.19091142, -0.2143568 ,\n",
       "         -0.194258  , -0.20412503, -0.19088793, -0.17818355, -0.18614588],\n",
       "        [-0.19959535, -0.21268588, -0.19128984, -0.21745235, -0.24634831,\n",
       "         -0.22348307, -0.2366752 , -0.21774623, -0.20528782, -0.2145372 ],\n",
       "        [-0.19371863, -0.20665218, -0.18522673, -0.21083218, -0.23827454,\n",
       "         -0.21604432, -0.22864496, -0.21028186, -0.19763083, -0.20837922],\n",
       "        [-0.18229295, -0.19344712, -0.17385074, -0.19883617, -0.22421158,\n",
       "         -0.20397797, -0.21497242, -0.19871063, -0.18707442, -0.19564471],\n",
       "        [-0.19260858, -0.20441424, -0.18338825, -0.20921341, -0.23641498,\n",
       "         -0.21461057, -0.22700547, -0.20809846, -0.19620432, -0.20707584],\n",
       "        [-0.1694376 , -0.18144987, -0.16220539, -0.18485703, -0.20956746,\n",
       "         -0.18901641, -0.20079677, -0.18551137, -0.17420761, -0.18177629],\n",
       "        [-0.2051783 , -0.21730839, -0.19608372, -0.22226203, -0.25216296,\n",
       "         -0.22925512, -0.24217344, -0.22303882, -0.20884996, -0.21839158],\n",
       "        [-0.18657519, -0.19908794, -0.17811267, -0.20329793, -0.22982875,\n",
       "         -0.20891505, -0.21956503, -0.20241608, -0.19036745, -0.19941408],\n",
       "        [-0.21033976, -0.2223984 , -0.19915716, -0.22658886, -0.25703219,\n",
       "         -0.23406131, -0.24575823, -0.22752048, -0.21401401, -0.22426604],\n",
       "        [-0.17551312, -0.18666889, -0.16837236, -0.1901005 , -0.21572146,\n",
       "         -0.19413756, -0.20604438, -0.19142352, -0.17876418, -0.1876341 ],\n",
       "        [-0.1831472 , -0.19381421, -0.17451135, -0.19785244, -0.22448935,\n",
       "         -0.20324111, -0.21553905, -0.19640235, -0.18640011, -0.19568042],\n",
       "        [-0.2189071 , -0.23198414, -0.20950284, -0.23802935, -0.26870802,\n",
       "         -0.24348142, -0.25813207, -0.23625288, -0.2240815 , -0.23402977],\n",
       "        [-0.18843102, -0.19915103, -0.17975673, -0.20381744, -0.23152204,\n",
       "         -0.20981047, -0.22112619, -0.20501243, -0.19160168, -0.200582  ],\n",
       "        [-0.2204074 , -0.23604446, -0.21063408, -0.24014274, -0.27213433,\n",
       "         -0.24614906, -0.26136352, -0.24135996, -0.22654341, -0.23618247],\n",
       "        [-0.19470092, -0.20593562, -0.18619738, -0.21014858, -0.23885341,\n",
       "         -0.21669735, -0.22814849, -0.21223302, -0.19856965, -0.20794651],\n",
       "        [-0.16639527, -0.17596332, -0.15867041, -0.18014296, -0.20427821,\n",
       "         -0.18474336, -0.1946788 , -0.1798171 , -0.16920105, -0.1782736 ],\n",
       "        [-0.18792357, -0.19954199, -0.17920111, -0.20391016, -0.23099326,\n",
       "         -0.20979528, -0.22195308, -0.20413788, -0.19195041, -0.2021279 ],\n",
       "        [-0.22055163, -0.23382015, -0.210459  , -0.23954161, -0.27111908,\n",
       "         -0.24588033, -0.26032373, -0.23891731, -0.22546974, -0.23541959],\n",
       "        [-0.21654865, -0.23046809, -0.20644254, -0.23408433, -0.26545116,\n",
       "         -0.24042978, -0.2554404 , -0.23569499, -0.22133497, -0.23194664],\n",
       "        [-0.19479939, -0.20775416, -0.18643374, -0.21238725, -0.24146703,\n",
       "         -0.21841362, -0.23148956, -0.21266728, -0.20011099, -0.2096916 ],\n",
       "        [-0.18006172, -0.19128314, -0.17071435, -0.194481  , -0.22168618,\n",
       "         -0.1996181 , -0.2124091 , -0.19608479, -0.18256904, -0.19290992],\n",
       "        [-0.1822225 , -0.19308435, -0.17301052, -0.19667914, -0.22358692,\n",
       "         -0.20319718, -0.21538675, -0.19858318, -0.18468778, -0.19480833],\n",
       "        [-0.1769466 , -0.18904945, -0.17088028, -0.19286665, -0.22054376,\n",
       "         -0.19846925, -0.20989115, -0.19455755, -0.1814969 , -0.19105335],\n",
       "        [-0.19936613, -0.21118284, -0.19108273, -0.21704467, -0.24536657,\n",
       "         -0.22223973, -0.23546332, -0.21590983, -0.20399711, -0.21359685],\n",
       "        [-0.21484301, -0.2286587 , -0.20460224, -0.23356023, -0.26499595,\n",
       "         -0.23952995, -0.25300733, -0.23459854, -0.2195346 , -0.23045022],\n",
       "        [-0.20338505, -0.21594517, -0.19424993, -0.22020449, -0.25069169,\n",
       "         -0.22650808, -0.24026505, -0.22119383, -0.20817806, -0.21757751],\n",
       "        [-0.1870204 , -0.19714129, -0.17735514, -0.20369583, -0.22907575,\n",
       "         -0.20885224, -0.22023069, -0.20199857, -0.1897574 , -0.20021401],\n",
       "        [-0.19191298, -0.20412671, -0.18301406, -0.20916541, -0.23587088,\n",
       "         -0.21508542, -0.22622812, -0.20855398, -0.19696948, -0.20491201],\n",
       "        [-0.18687639, -0.19828254, -0.17785885, -0.2021887 , -0.229357  ,\n",
       "         -0.20790107, -0.22032373, -0.20298511, -0.1909795 , -0.19989676],\n",
       "        [-0.17993777, -0.19323954, -0.17313782, -0.19754694, -0.22206438,\n",
       "         -0.20160208, -0.21317108, -0.19491958, -0.18468115, -0.19336289],\n",
       "        [-0.19217753, -0.20506511, -0.18297102, -0.20971109, -0.23607084,\n",
       "         -0.21494873, -0.22680709, -0.20964639, -0.19597307, -0.20635538]]),\n",
       " 'b1': array([  1.14603876e-03,   2.37957679e-04,   3.24596477e-03,\n",
       "         -4.65339730e-04,  -2.92890917e-03,   3.43524880e-03,\n",
       "         -2.99538093e-03,   5.65656255e-03,  -6.79142963e-04,\n",
       "          2.31630566e-04,  -4.91097304e-03,   5.69358187e-03,\n",
       "          2.47837926e-03,   2.62805092e-03,   1.30510888e-03,\n",
       "         -2.65758638e-03,   8.13771993e-03,   2.35468235e-03,\n",
       "          1.59773903e-03,   5.84519923e-05,  -3.41592067e-03,\n",
       "         -1.66264789e-03,  -1.44892229e-03,  -4.11197348e-04,\n",
       "         -1.67449662e-03,   3.10664313e-03,   4.05216923e-04,\n",
       "          4.66332299e-03,   1.44458622e-03,  -2.06399286e-03,\n",
       "          2.84923859e-03,  -1.40379029e-03,  -2.79160302e-03,\n",
       "          1.56294151e-03,   2.20934530e-03,  -3.81192035e-04,\n",
       "          1.99452407e-03,   2.06350294e-04,  -2.56113355e-03,\n",
       "          6.90921365e-03,   3.27553051e-03,  -1.79222068e-03,\n",
       "         -1.08536891e-03,  -1.05371031e-03,   5.32457099e-03,\n",
       "         -1.64292363e-03,  -7.76882659e-03,   3.51601709e-03,\n",
       "         -3.01248305e-03,  -8.49242551e-04,   9.91731003e-03,\n",
       "          8.12681405e-04,  -5.31680061e-04,   2.76887148e-03,\n",
       "          2.30863632e-03,  -1.44538766e-03,   5.59874996e-04,\n",
       "          2.10212501e-03,  -4.63447832e-04,   8.29227605e-03,\n",
       "         -5.18241334e-03,   4.88395585e-03,   1.73392204e-03,\n",
       "         -5.37167164e-03,   4.35026681e-03,   8.41266775e-03,\n",
       "          3.90797596e-03,   2.01086388e-03,  -5.24253688e-03,\n",
       "          1.27020731e-03,   1.59346228e-03,   4.38284719e-04,\n",
       "          1.49624338e-03,  -1.64290674e-03,   1.68846687e-03,\n",
       "          2.56767709e-03,   6.29368139e-03,   2.66542732e-03,\n",
       "          3.33523290e-04,  -7.14093981e-03,  -5.44895752e-03,\n",
       "         -2.08205122e-03,   2.73958773e-03,  -1.02964909e-03,\n",
       "         -5.11066295e-03,  -4.91835650e-03,  -1.84053035e-03,\n",
       "         -1.31749164e-03,   1.07712657e-03,   4.57678960e-03,\n",
       "         -2.52313831e-03,   1.89604680e-03,  -1.75748652e-03,\n",
       "         -3.00651135e-03,  -3.38093630e-03,  -4.53944169e-04,\n",
       "          9.28765619e-05,  -3.14410289e-03,  -1.16357267e-03,\n",
       "         -5.51266762e-03]),\n",
       " 'b2': array([-0.37882776, -0.4025772 , -0.361582  , -0.41129843, -0.46610411,\n",
       "        -0.42255845, -0.44711224, -0.41199104, -0.38673516, -0.40606659])}"
      ]
     },
     "execution_count": 70,
     "metadata": {},
     "output_type": "execute_result"
    }
   ],
   "source": [
    "t = np.random.rand(100, 10) # ダミーの正解ラベル(100 枚分)\n",
    "grads = net.gradient(x, t) # 勾配を計算\n",
    "grads"
   ]
  },
  {
   "cell_type": "markdown",
   "metadata": {},
   "source": [
    "### ミニバッチ学習の実装"
   ]
  },
  {
   "cell_type": "code",
   "execution_count": 76,
   "metadata": {},
   "outputs": [],
   "source": [
    "import numpy as np\n",
    "from dataset.mnist import load_mnist\n",
    "from ch04.two_layer_net import TwoLayerNet\n",
    "\n",
    "(x_train, t_train), (x_test, t_test) = \\\n",
    "    load_mnist(normalize=True, one_hot_label=True)\n",
    "\n",
    "train_loss_list = []\n",
    "\n",
    "# ハイパーパラメータ\n",
    "iters_num = 10000\n",
    "train_size = x_train.shape[0] \n",
    "batch_size = 100 \n",
    "learning_rate = 0.1\n",
    "\n",
    "network = TwoLayerNet(input_size=784, hidden_size=50, output_size=10)\n",
    "\n",
    "for i in range(iters_num): \n",
    "    # ミニバッチの取得\n",
    "    batch_mask = np.random.choice(train_size, batch_size)\n",
    "    x_batch = x_train[batch_mask]\n",
    "    t_batch = t_train[batch_mask]\n",
    "\n",
    "    # 勾配の計算\n",
    "    #grad = network.numerical_gradient(x_batch, t_batch) \n",
    "    grad = network.gradient(x_batch, t_batch) # 高速版!\n",
    "\n",
    "    # パラメータの更新\n",
    "    for key in ('W1', 'b1', 'W2', 'b2'):\n",
    "        network.params[key] -= learning_rate * grad[key]\n",
    "\n",
    "    # 学習経過の記録\n",
    "    loss = network.loss(x_batch, t_batch) \n",
    "    train_loss_list.append(loss)"
   ]
  },
  {
   "cell_type": "markdown",
   "metadata": {},
   "source": [
    "### テストデータで評価"
   ]
  },
  {
   "cell_type": "code",
   "execution_count": 50,
   "metadata": {},
   "outputs": [
    {
     "name": "stdout",
     "output_type": "stream",
     "text": [
      "train acc, test acc | 0.0993, 0.1032\n",
      "train acc, test acc | 0.772166666667, 0.7771\n",
      "train acc, test acc | 0.877766666667, 0.8815\n",
      "train acc, test acc | 0.898033333333, 0.9017\n",
      "train acc, test acc | 0.908366666667, 0.9103\n",
      "train acc, test acc | 0.91385, 0.9159\n",
      "train acc, test acc | 0.918216666667, 0.9216\n",
      "train acc, test acc | 0.923466666667, 0.926\n",
      "train acc, test acc | 0.927216666667, 0.9287\n",
      "train acc, test acc | 0.929816666667, 0.9301\n",
      "train acc, test acc | 0.9329, 0.9328\n",
      "train acc, test acc | 0.936333333333, 0.9371\n",
      "train acc, test acc | 0.93805, 0.9384\n",
      "train acc, test acc | 0.94085, 0.9405\n",
      "train acc, test acc | 0.9426, 0.9413\n",
      "train acc, test acc | 0.945016666667, 0.9441\n",
      "train acc, test acc | 0.946933333333, 0.9444\n"
     ]
    }
   ],
   "source": [
    "import numpy as np\n",
    "from dataset.mnist import load_mnist \n",
    "from ch04.two_layer_net import TwoLayerNet\n",
    "\n",
    "(x_train, t_train), (x_test, t_test) = \\\n",
    "    load_mnist(normalize=True, one_hot_label=True)\n",
    "\n",
    "train_loss_list = []\n",
    "train_acc_list = []\n",
    "test_acc_list = []\n",
    "# 1 エポックあたりの繰り返し数\n",
    "iter_per_epoch = max(train_size / batch_size, 1)\n",
    "\n",
    "# ハイパーパラメータ \n",
    "iters_num = 10000 \n",
    "batch_size = 100 \n",
    "learning_rate = 0.1\n",
    "\n",
    "network = TwoLayerNet(input_size=784, hidden_size=50, output_size=10)\n",
    "\n",
    "for i in range(iters_num): \n",
    "    # ミニバッチの取得\n",
    "    batch_mask = np.random.choice(train_size, batch_size) \n",
    "    x_batch = x_train[batch_mask]\n",
    "    t_batch = t_train[batch_mask]\n",
    "\n",
    "    # 勾配の計算\n",
    "    #grad = network.numerical_gradient(x_batch, t_batch) \n",
    "    grad = network.gradient(x_batch, t_batch) # 高速版!\n",
    "    \n",
    "    # パラメータの更新\n",
    "    for key in ('W1', 'b1', 'W2', 'b2'):\n",
    "        network.params[key] -= learning_rate * grad[key]\n",
    "\n",
    "    loss = network.loss(x_batch, t_batch) \n",
    "    train_loss_list.append(loss)\n",
    "    \n",
    "    # 1エポックごとに認識精度を計算 \n",
    "    if i % iter_per_epoch == 0:\n",
    "        train_acc = network.accuracy(x_train, t_train) \n",
    "        test_acc = network.accuracy(x_test, t_test) \n",
    "        train_acc_list.append(train_acc) \n",
    "        test_acc_list.append(test_acc)\n",
    "        print(\"train acc, test acc | \" + str(train_acc) + \", \" + str(test_acc))"
   ]
  },
  {
   "cell_type": "code",
   "execution_count": 52,
   "metadata": {},
   "outputs": [
    {
     "name": "stdout",
     "output_type": "stream",
     "text": [
      "train acc, test acc | 0.09035, 0.0892\n",
      "train acc, test acc | 0.8022, 0.8027\n",
      "train acc, test acc | 0.877383333333, 0.8806\n",
      "train acc, test acc | 0.89765, 0.8999\n",
      "train acc, test acc | 0.90825, 0.91\n",
      "train acc, test acc | 0.914583333333, 0.915\n",
      "train acc, test acc | 0.9206, 0.9226\n",
      "train acc, test acc | 0.924933333333, 0.9241\n",
      "train acc, test acc | 0.92925, 0.9288\n",
      "train acc, test acc | 0.933083333333, 0.9331\n",
      "train acc, test acc | 0.935716666667, 0.9347\n",
      "train acc, test acc | 0.938833333333, 0.9384\n",
      "train acc, test acc | 0.941666666667, 0.9408\n",
      "train acc, test acc | 0.943816666667, 0.9415\n",
      "train acc, test acc | 0.94615, 0.9441\n",
      "train acc, test acc | 0.94805, 0.9451\n",
      "train acc, test acc | 0.9495, 0.9477\n"
     ]
    },
    {
     "data": {
      "image/png": "[encoded data removed]",
      "text/plain": [
       "<matplotlib.figure.Figure at 0x12b429cf8>"
      ]
     },
     "metadata": {},
     "output_type": "display_data"
    }
   ],
   "source": [
    "# coding: utf-8\n",
    "import sys, os\n",
    "sys.path.append(os.pardir)  # 親ディレクトリのファイルをインポートするための設定\n",
    "import numpy as np\n",
    "import matplotlib.pyplot as plt\n",
    "from dataset.mnist import load_mnist\n",
    "from ch04.two_layer_net import TwoLayerNet\n",
    "\n",
    "# データの読み込み\n",
    "(x_train, t_train), (x_test, t_test) = load_mnist(normalize=True, one_hot_label=True)\n",
    "\n",
    "network = TwoLayerNet(input_size=784, hidden_size=50, output_size=10)\n",
    "\n",
    "iters_num = 10000  # 繰り返しの回数を適宜設定する\n",
    "train_size = x_train.shape[0]\n",
    "batch_size = 100\n",
    "learning_rate = 0.1\n",
    "\n",
    "train_loss_list = []\n",
    "train_acc_list = []\n",
    "test_acc_list = []\n",
    "\n",
    "iter_per_epoch = max(train_size / batch_size, 1)\n",
    "\n",
    "for i in range(iters_num):\n",
    "    batch_mask = np.random.choice(train_size, batch_size)\n",
    "    x_batch = x_train[batch_mask]\n",
    "    t_batch = t_train[batch_mask]\n",
    "    \n",
    "    # 勾配の計算\n",
    "    #grad = network.numerical_gradient(x_batch, t_batch)\n",
    "    grad = network.gradient(x_batch, t_batch)\n",
    "    \n",
    "    # パラメータの更新\n",
    "    for key in ('W1', 'b1', 'W2', 'b2'):\n",
    "        network.params[key] -= learning_rate * grad[key]\n",
    "    \n",
    "    loss = network.loss(x_batch, t_batch)\n",
    "    train_loss_list.append(loss)\n",
    "    \n",
    "    if i % iter_per_epoch == 0:\n",
    "        train_acc = network.accuracy(x_train, t_train)\n",
    "        test_acc = network.accuracy(x_test, t_test)\n",
    "        train_acc_list.append(train_acc)\n",
    "        test_acc_list.append(test_acc)\n",
    "        print(\"train acc, test acc | \" + str(train_acc) + \", \" + str(test_acc))\n",
    "\n",
    "# グラフの描画\n",
    "markers = {'train': 'o', 'test': 's'}\n",
    "x = np.arange(len(train_acc_list))\n",
    "plt.plot(x, train_acc_list, label='train acc')\n",
    "plt.plot(x, test_acc_list, label='test acc', linestyle='--')\n",
    "plt.xlabel(\"epochs\")\n",
    "plt.ylabel(\"accuracy\")\n",
    "plt.ylim(0, 1.0)\n",
    "plt.legend(loc='lower right')\n",
    "plt.show()"
   ]
  },
  {
   "cell_type": "code",
   "execution_count": null,
   "metadata": {
    "collapsed": true
   },
   "outputs": [],
   "source": []
  },
  {
   "cell_type": "code",
   "execution_count": null,
   "metadata": {
    "collapsed": true
   },
   "outputs": [],
   "source": []
  }
 ],
 "metadata": {
  "kernelspec": {
   "display_name": "Python 3",
   "language": "python",
   "name": "python3"
  },
  "language_info": {
   "codemirror_mode": {
    "name": "ipython",
    "version": 3
   },
   "file_extension": ".py",
   "mimetype": "text/x-python",
   "name": "python",
   "nbconvert_exporter": "python",
   "pygments_lexer": "ipython3",
   "version": "3.6.1"
  }
 },
 "nbformat": 4,
 "nbformat_minor": 2
}
